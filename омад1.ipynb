{
  "nbformat": 4,
  "nbformat_minor": 0,
  "metadata": {
    "colab": {
      "provenance": []
    },
    "kernelspec": {
      "name": "python3",
      "display_name": "Python 3"
    },
    "language_info": {
      "name": "python"
    }
  },
  "cells": [
    {
      "cell_type": "code",
      "source": [
        "import pandas as pd\n",
        "import numpy as np\n",
        "import matplotlib.pyplot as plt\n",
        "import seaborn as sns\n",
        "from sklearn.linear_model import LinearRegression\n",
        "from sklearn.metrics import mean_squared_error, r2_score\n",
        "from pandas.plotting import scatter_matrix\n",
        "from sklearn import metrics"
      ],
      "metadata": {
        "id": "FBW3tRh1g3Ct"
      },
      "execution_count": null,
      "outputs": []
    },
    {
      "cell_type": "markdown",
      "source": [
        "Домашнее задание 1"
      ],
      "metadata": {
        "id": "l4RchVNAr6eI"
      }
    },
    {
      "cell_type": "markdown",
      "source": [
        "## 1. Нахождение двух признаков с линейным полем рассеяния"
      ],
      "metadata": {
        "id": "psF_xo4Ngi14"
      }
    },
    {
      "cell_type": "code",
      "source": [
        "# Загрузка данных\n",
        "df = pd.read_csv('country_wise_latest.csv')\n",
        "df.head()"
      ],
      "metadata": {
        "colab": {
          "base_uri": "https://localhost:8080/",
          "height": 241
        },
        "id": "XZr8voJlrtDj",
        "outputId": "67156f43-b373-4abf-e339-f5fdc37c3a89"
      },
      "execution_count": null,
      "outputs": [
        {
          "output_type": "execute_result",
          "data": {
            "text/plain": [
              "  Country/Region  Confirmed  Deaths  Recovered  Active  New cases  New deaths  \\\n",
              "0    Afghanistan      36263    1269      25198    9796        106          10   \n",
              "1        Albania       4880     144       2745    1991        117           6   \n",
              "2        Algeria      27973    1163      18837    7973        616           8   \n",
              "3        Andorra        907      52        803      52         10           0   \n",
              "4         Angola        950      41        242     667         18           1   \n",
              "\n",
              "   New recovered  Deaths / 100 Cases  Recovered / 100 Cases  \\\n",
              "0             18                3.50                  69.49   \n",
              "1             63                2.95                  56.25   \n",
              "2            749                4.16                  67.34   \n",
              "3              0                5.73                  88.53   \n",
              "4              0                4.32                  25.47   \n",
              "\n",
              "   Deaths / 100 Recovered  Confirmed last week  1 week change  \\\n",
              "0                    5.04                35526            737   \n",
              "1                    5.25                 4171            709   \n",
              "2                    6.17                23691           4282   \n",
              "3                    6.48                  884             23   \n",
              "4                   16.94                  749            201   \n",
              "\n",
              "   1 week % increase             WHO Region  \n",
              "0               2.07  Eastern Mediterranean  \n",
              "1              17.00                 Europe  \n",
              "2              18.07                 Africa  \n",
              "3               2.60                 Europe  \n",
              "4              26.84                 Africa  "
            ],
            "text/html": [
              "\n",
              "  <div id=\"df-22591d1c-3481-410b-856f-15e600996f4c\" class=\"colab-df-container\">\n",
              "    <div>\n",
              "<style scoped>\n",
              "    .dataframe tbody tr th:only-of-type {\n",
              "        vertical-align: middle;\n",
              "    }\n",
              "\n",
              "    .dataframe tbody tr th {\n",
              "        vertical-align: top;\n",
              "    }\n",
              "\n",
              "    .dataframe thead th {\n",
              "        text-align: right;\n",
              "    }\n",
              "</style>\n",
              "<table border=\"1\" class=\"dataframe\">\n",
              "  <thead>\n",
              "    <tr style=\"text-align: right;\">\n",
              "      <th></th>\n",
              "      <th>Country/Region</th>\n",
              "      <th>Confirmed</th>\n",
              "      <th>Deaths</th>\n",
              "      <th>Recovered</th>\n",
              "      <th>Active</th>\n",
              "      <th>New cases</th>\n",
              "      <th>New deaths</th>\n",
              "      <th>New recovered</th>\n",
              "      <th>Deaths / 100 Cases</th>\n",
              "      <th>Recovered / 100 Cases</th>\n",
              "      <th>Deaths / 100 Recovered</th>\n",
              "      <th>Confirmed last week</th>\n",
              "      <th>1 week change</th>\n",
              "      <th>1 week % increase</th>\n",
              "      <th>WHO Region</th>\n",
              "    </tr>\n",
              "  </thead>\n",
              "  <tbody>\n",
              "    <tr>\n",
              "      <th>0</th>\n",
              "      <td>Afghanistan</td>\n",
              "      <td>36263</td>\n",
              "      <td>1269</td>\n",
              "      <td>25198</td>\n",
              "      <td>9796</td>\n",
              "      <td>106</td>\n",
              "      <td>10</td>\n",
              "      <td>18</td>\n",
              "      <td>3.50</td>\n",
              "      <td>69.49</td>\n",
              "      <td>5.04</td>\n",
              "      <td>35526</td>\n",
              "      <td>737</td>\n",
              "      <td>2.07</td>\n",
              "      <td>Eastern Mediterranean</td>\n",
              "    </tr>\n",
              "    <tr>\n",
              "      <th>1</th>\n",
              "      <td>Albania</td>\n",
              "      <td>4880</td>\n",
              "      <td>144</td>\n",
              "      <td>2745</td>\n",
              "      <td>1991</td>\n",
              "      <td>117</td>\n",
              "      <td>6</td>\n",
              "      <td>63</td>\n",
              "      <td>2.95</td>\n",
              "      <td>56.25</td>\n",
              "      <td>5.25</td>\n",
              "      <td>4171</td>\n",
              "      <td>709</td>\n",
              "      <td>17.00</td>\n",
              "      <td>Europe</td>\n",
              "    </tr>\n",
              "    <tr>\n",
              "      <th>2</th>\n",
              "      <td>Algeria</td>\n",
              "      <td>27973</td>\n",
              "      <td>1163</td>\n",
              "      <td>18837</td>\n",
              "      <td>7973</td>\n",
              "      <td>616</td>\n",
              "      <td>8</td>\n",
              "      <td>749</td>\n",
              "      <td>4.16</td>\n",
              "      <td>67.34</td>\n",
              "      <td>6.17</td>\n",
              "      <td>23691</td>\n",
              "      <td>4282</td>\n",
              "      <td>18.07</td>\n",
              "      <td>Africa</td>\n",
              "    </tr>\n",
              "    <tr>\n",
              "      <th>3</th>\n",
              "      <td>Andorra</td>\n",
              "      <td>907</td>\n",
              "      <td>52</td>\n",
              "      <td>803</td>\n",
              "      <td>52</td>\n",
              "      <td>10</td>\n",
              "      <td>0</td>\n",
              "      <td>0</td>\n",
              "      <td>5.73</td>\n",
              "      <td>88.53</td>\n",
              "      <td>6.48</td>\n",
              "      <td>884</td>\n",
              "      <td>23</td>\n",
              "      <td>2.60</td>\n",
              "      <td>Europe</td>\n",
              "    </tr>\n",
              "    <tr>\n",
              "      <th>4</th>\n",
              "      <td>Angola</td>\n",
              "      <td>950</td>\n",
              "      <td>41</td>\n",
              "      <td>242</td>\n",
              "      <td>667</td>\n",
              "      <td>18</td>\n",
              "      <td>1</td>\n",
              "      <td>0</td>\n",
              "      <td>4.32</td>\n",
              "      <td>25.47</td>\n",
              "      <td>16.94</td>\n",
              "      <td>749</td>\n",
              "      <td>201</td>\n",
              "      <td>26.84</td>\n",
              "      <td>Africa</td>\n",
              "    </tr>\n",
              "  </tbody>\n",
              "</table>\n",
              "</div>\n",
              "    <div class=\"colab-df-buttons\">\n",
              "\n",
              "  <div class=\"colab-df-container\">\n",
              "    <button class=\"colab-df-convert\" onclick=\"convertToInteractive('df-22591d1c-3481-410b-856f-15e600996f4c')\"\n",
              "            title=\"Convert this dataframe to an interactive table.\"\n",
              "            style=\"display:none;\">\n",
              "\n",
              "  <svg xmlns=\"http://www.w3.org/2000/svg\" height=\"24px\" viewBox=\"0 -960 960 960\">\n",
              "    <path d=\"M120-120v-720h720v720H120Zm60-500h600v-160H180v160Zm220 220h160v-160H400v160Zm0 220h160v-160H400v160ZM180-400h160v-160H180v160Zm440 0h160v-160H620v160ZM180-180h160v-160H180v160Zm440 0h160v-160H620v160Z\"/>\n",
              "  </svg>\n",
              "    </button>\n",
              "\n",
              "  <style>\n",
              "    .colab-df-container {\n",
              "      display:flex;\n",
              "      gap: 12px;\n",
              "    }\n",
              "\n",
              "    .colab-df-convert {\n",
              "      background-color: #E8F0FE;\n",
              "      border: none;\n",
              "      border-radius: 50%;\n",
              "      cursor: pointer;\n",
              "      display: none;\n",
              "      fill: #1967D2;\n",
              "      height: 32px;\n",
              "      padding: 0 0 0 0;\n",
              "      width: 32px;\n",
              "    }\n",
              "\n",
              "    .colab-df-convert:hover {\n",
              "      background-color: #E2EBFA;\n",
              "      box-shadow: 0px 1px 2px rgba(60, 64, 67, 0.3), 0px 1px 3px 1px rgba(60, 64, 67, 0.15);\n",
              "      fill: #174EA6;\n",
              "    }\n",
              "\n",
              "    .colab-df-buttons div {\n",
              "      margin-bottom: 4px;\n",
              "    }\n",
              "\n",
              "    [theme=dark] .colab-df-convert {\n",
              "      background-color: #3B4455;\n",
              "      fill: #D2E3FC;\n",
              "    }\n",
              "\n",
              "    [theme=dark] .colab-df-convert:hover {\n",
              "      background-color: #434B5C;\n",
              "      box-shadow: 0px 1px 3px 1px rgba(0, 0, 0, 0.15);\n",
              "      filter: drop-shadow(0px 1px 2px rgba(0, 0, 0, 0.3));\n",
              "      fill: #FFFFFF;\n",
              "    }\n",
              "  </style>\n",
              "\n",
              "    <script>\n",
              "      const buttonEl =\n",
              "        document.querySelector('#df-22591d1c-3481-410b-856f-15e600996f4c button.colab-df-convert');\n",
              "      buttonEl.style.display =\n",
              "        google.colab.kernel.accessAllowed ? 'block' : 'none';\n",
              "\n",
              "      async function convertToInteractive(key) {\n",
              "        const element = document.querySelector('#df-22591d1c-3481-410b-856f-15e600996f4c');\n",
              "        const dataTable =\n",
              "          await google.colab.kernel.invokeFunction('convertToInteractive',\n",
              "                                                    [key], {});\n",
              "        if (!dataTable) return;\n",
              "\n",
              "        const docLinkHtml = 'Like what you see? Visit the ' +\n",
              "          '<a target=\"_blank\" href=https://colab.research.google.com/notebooks/data_table.ipynb>data table notebook</a>'\n",
              "          + ' to learn more about interactive tables.';\n",
              "        element.innerHTML = '';\n",
              "        dataTable['output_type'] = 'display_data';\n",
              "        await google.colab.output.renderOutput(dataTable, element);\n",
              "        const docLink = document.createElement('div');\n",
              "        docLink.innerHTML = docLinkHtml;\n",
              "        element.appendChild(docLink);\n",
              "      }\n",
              "    </script>\n",
              "  </div>\n",
              "\n",
              "\n",
              "<div id=\"df-a64f4ed1-d49c-4904-a139-7214ef7e0c18\">\n",
              "  <button class=\"colab-df-quickchart\" onclick=\"quickchart('df-a64f4ed1-d49c-4904-a139-7214ef7e0c18')\"\n",
              "            title=\"Suggest charts\"\n",
              "            style=\"display:none;\">\n",
              "\n",
              "<svg xmlns=\"http://www.w3.org/2000/svg\" height=\"24px\"viewBox=\"0 0 24 24\"\n",
              "     width=\"24px\">\n",
              "    <g>\n",
              "        <path d=\"M19 3H5c-1.1 0-2 .9-2 2v14c0 1.1.9 2 2 2h14c1.1 0 2-.9 2-2V5c0-1.1-.9-2-2-2zM9 17H7v-7h2v7zm4 0h-2V7h2v10zm4 0h-2v-4h2v4z\"/>\n",
              "    </g>\n",
              "</svg>\n",
              "  </button>\n",
              "\n",
              "<style>\n",
              "  .colab-df-quickchart {\n",
              "      --bg-color: #E8F0FE;\n",
              "      --fill-color: #1967D2;\n",
              "      --hover-bg-color: #E2EBFA;\n",
              "      --hover-fill-color: #174EA6;\n",
              "      --disabled-fill-color: #AAA;\n",
              "      --disabled-bg-color: #DDD;\n",
              "  }\n",
              "\n",
              "  [theme=dark] .colab-df-quickchart {\n",
              "      --bg-color: #3B4455;\n",
              "      --fill-color: #D2E3FC;\n",
              "      --hover-bg-color: #434B5C;\n",
              "      --hover-fill-color: #FFFFFF;\n",
              "      --disabled-bg-color: #3B4455;\n",
              "      --disabled-fill-color: #666;\n",
              "  }\n",
              "\n",
              "  .colab-df-quickchart {\n",
              "    background-color: var(--bg-color);\n",
              "    border: none;\n",
              "    border-radius: 50%;\n",
              "    cursor: pointer;\n",
              "    display: none;\n",
              "    fill: var(--fill-color);\n",
              "    height: 32px;\n",
              "    padding: 0;\n",
              "    width: 32px;\n",
              "  }\n",
              "\n",
              "  .colab-df-quickchart:hover {\n",
              "    background-color: var(--hover-bg-color);\n",
              "    box-shadow: 0 1px 2px rgba(60, 64, 67, 0.3), 0 1px 3px 1px rgba(60, 64, 67, 0.15);\n",
              "    fill: var(--button-hover-fill-color);\n",
              "  }\n",
              "\n",
              "  .colab-df-quickchart-complete:disabled,\n",
              "  .colab-df-quickchart-complete:disabled:hover {\n",
              "    background-color: var(--disabled-bg-color);\n",
              "    fill: var(--disabled-fill-color);\n",
              "    box-shadow: none;\n",
              "  }\n",
              "\n",
              "  .colab-df-spinner {\n",
              "    border: 2px solid var(--fill-color);\n",
              "    border-color: transparent;\n",
              "    border-bottom-color: var(--fill-color);\n",
              "    animation:\n",
              "      spin 1s steps(1) infinite;\n",
              "  }\n",
              "\n",
              "  @keyframes spin {\n",
              "    0% {\n",
              "      border-color: transparent;\n",
              "      border-bottom-color: var(--fill-color);\n",
              "      border-left-color: var(--fill-color);\n",
              "    }\n",
              "    20% {\n",
              "      border-color: transparent;\n",
              "      border-left-color: var(--fill-color);\n",
              "      border-top-color: var(--fill-color);\n",
              "    }\n",
              "    30% {\n",
              "      border-color: transparent;\n",
              "      border-left-color: var(--fill-color);\n",
              "      border-top-color: var(--fill-color);\n",
              "      border-right-color: var(--fill-color);\n",
              "    }\n",
              "    40% {\n",
              "      border-color: transparent;\n",
              "      border-right-color: var(--fill-color);\n",
              "      border-top-color: var(--fill-color);\n",
              "    }\n",
              "    60% {\n",
              "      border-color: transparent;\n",
              "      border-right-color: var(--fill-color);\n",
              "    }\n",
              "    80% {\n",
              "      border-color: transparent;\n",
              "      border-right-color: var(--fill-color);\n",
              "      border-bottom-color: var(--fill-color);\n",
              "    }\n",
              "    90% {\n",
              "      border-color: transparent;\n",
              "      border-bottom-color: var(--fill-color);\n",
              "    }\n",
              "  }\n",
              "</style>\n",
              "\n",
              "  <script>\n",
              "    async function quickchart(key) {\n",
              "      const quickchartButtonEl =\n",
              "        document.querySelector('#' + key + ' button');\n",
              "      quickchartButtonEl.disabled = true;  // To prevent multiple clicks.\n",
              "      quickchartButtonEl.classList.add('colab-df-spinner');\n",
              "      try {\n",
              "        const charts = await google.colab.kernel.invokeFunction(\n",
              "            'suggestCharts', [key], {});\n",
              "      } catch (error) {\n",
              "        console.error('Error during call to suggestCharts:', error);\n",
              "      }\n",
              "      quickchartButtonEl.classList.remove('colab-df-spinner');\n",
              "      quickchartButtonEl.classList.add('colab-df-quickchart-complete');\n",
              "    }\n",
              "    (() => {\n",
              "      let quickchartButtonEl =\n",
              "        document.querySelector('#df-a64f4ed1-d49c-4904-a139-7214ef7e0c18 button');\n",
              "      quickchartButtonEl.style.display =\n",
              "        google.colab.kernel.accessAllowed ? 'block' : 'none';\n",
              "    })();\n",
              "  </script>\n",
              "</div>\n",
              "    </div>\n",
              "  </div>\n"
            ]
          },
          "metadata": {},
          "execution_count": 20
        }
      ]
    },
    {
      "cell_type": "code",
      "source": [
        "import pandas as pd\n",
        "import numpy as np\n",
        "import matplotlib.pyplot as plt\n",
        "from sklearn.linear_model import LinearRegression\n",
        "from sklearn.metrics import mean_squared_error, r2_score\n",
        "\n",
        "# Шаг 1: Нахождение двух признаков с линейным полем рассеяния\n",
        "# Для этого посмотрим на парные отношения между различными признаками\n",
        "sns.pairplot(df[['Confirmed', 'Deaths', 'Active']])\n",
        "plt.show()\n",
        "\n",
        "# Выбираем признаки для линейной регрессии на основе наблюдений\n",
        "# Например, 'Confirmed' и 'Deaths' могут иметь линейное отношение\n"
      ],
      "metadata": {
        "colab": {
          "base_uri": "https://localhost:8080/",
          "height": 758
        },
        "id": "UfzIScq2goJd",
        "outputId": "ccd46426-af87-4ab7-c7ea-2ca47ed86abf"
      },
      "execution_count": null,
      "outputs": [
        {
          "output_type": "display_data",
          "data": {
            "text/plain": [
              "<Figure size 750x750 with 12 Axes>"
            ],
            "image/png": "[encoded data removed]"
          },
          "metadata": {}
        }
      ]
    },
    {
      "cell_type": "markdown",
      "source": [
        "На графике рассеяния для 'Confirmed' и 'Deaths' видна линейная зависимость между этими двумя переменными."
      ],
      "metadata": {
        "id": "k5mBJK92nWr9"
      }
    },
    {
      "cell_type": "markdown",
      "source": [
        "## 2. Построение уравнения линейной регрессии"
      ],
      "metadata": {
        "id": "j2FwdEoegka-"
      }
    },
    {
      "cell_type": "code",
      "source": [
        "# Шаг 2: Построение уравнения линейной регрессии\n",
        "X = df['Confirmed'].values.reshape(-1, 1)  # Входной признак\n",
        "y = df['Deaths'].values  # Целевой признак\n",
        "\n",
        "# Создание и обучение модели\n",
        "model = LinearRegression()\n",
        "model.fit(X, y)\n",
        "\n",
        "# Получение коэффициентов\n",
        "a = model.coef_[0]  # Коэффициент регрессии\n",
        "b = model.intercept_  # Пересечение с осью Y\n",
        "\n",
        "# Визуализация результата\n",
        "plt.scatter(X, y, color='blue')\n",
        "plt.plot(X, model.predict(X), color='red')\n",
        "plt.xlabel('Confirmed')\n",
        "plt.ylabel('Deaths')\n",
        "plt.show()\n"
      ],
      "metadata": {
        "colab": {
          "base_uri": "https://localhost:8080/",
          "height": 449
        },
        "id": "fFXZtJjdgnA6",
        "outputId": "6d7ab0d1-63b3-4fda-d147-ebac0a02fe92"
      },
      "execution_count": null,
      "outputs": [
        {
          "output_type": "display_data",
          "data": {
            "text/plain": [
              "<Figure size 640x480 with 1 Axes>"
            ],
            "image/png": "[encoded data removed]"
          },
          "metadata": {}
        }
      ]
    },
    {
      "cell_type": "code",
      "source": [
        "print('Regression coefficient: %.10f' % a)\n",
        "print('Intercept: %.3f' % b)"
      ],
      "metadata": {
        "colab": {
          "base_uri": "https://localhost:8080/"
        },
        "id": "ovWVItppkHEO",
        "outputId": "8bb67ccc-9c0f-4608-caa3-ac65a42bd57c"
      },
      "execution_count": null,
      "outputs": [
        {
          "output_type": "stream",
          "name": "stdout",
          "text": [
            "Regression coefficient: 0.0343819685\n",
            "Intercept: 467.404\n"
          ]
        }
      ]
    },
    {
      "cell_type": "markdown",
      "source": [
        "Модель линейной регрессии построена для предсказания 'Deaths' (целевой признак) на основе 'Confirmed' (входной признак).\n",
        "\n",
        "Коэффициенты модели: a (наклон) = ~0.034, b (пересечение) = ~467.40.\n",
        "\n",
        "График показывает, как 'Deaths' линейно зависит от 'Confirmed'. Наклон линии (a) показывает, что с увеличением количества подтвержденных случаев, количество смертей также увеличивается, но не в одинаковой пропорции.\n",
        "\n",
        "Коэффициент 0.03 указывает на то, что с увеличением количества подтвержденных случаев ('Confirmed') на единицу, количество смертей ('Deaths') увеличивается примерно на 0.03 единицы.\n",
        "\n",
        "Этот коэффициент регрессии показывает направление и силу связи между подтвержденными случаями и смертями. Положительное значение коэффициента говорит о том, что с увеличением числа подтвержденных случаев увеличивается и число смертей."
      ],
      "metadata": {
        "id": "-Aa-aTtPl2Gh"
      }
    },
    {
      "cell_type": "markdown",
      "source": [
        "## 3. Расчет коэффициентов корреляции и детерминации"
      ],
      "metadata": {
        "id": "vtCpZgepjTdr"
      }
    },
    {
      "cell_type": "code",
      "source": [
        "# Шаг 3: Расчет коэффициентов корреляции и детерминации\n",
        "correlation_coefficient = np.corrcoef(df['Confirmed'], df['Deaths'])[0, 1]\n",
        "determination_coefficient = r2_score(y, model.predict(X))\n",
        "print('Correlation coefficient: %.3f' % correlation_coefficient)\n",
        "print('Determination coefficient: %.3f' % determination_coefficient)"
      ],
      "metadata": {
        "colab": {
          "base_uri": "https://localhost:8080/"
        },
        "id": "LpXZKvVUjUfF",
        "outputId": "362909ae-680c-48b1-b38a-2bbea01401ea"
      },
      "execution_count": null,
      "outputs": [
        {
          "output_type": "stream",
          "name": "stdout",
          "text": [
            "Correlation coefficient: 0.935\n",
            "Determination coefficient: 0.874\n"
          ]
        }
      ]
    },
    {
      "cell_type": "markdown",
      "source": [
        "Коэффициент корреляции: 0.93\n",
        "\n",
        "Коэффициент детерминации (R²): 0.87\n",
        "\n",
        "Высокий коэффициент корреляции указывает на сильную линейную связь между количеством подтвержденных случаев и смертей. Коэффициент детерминации показывает, что примерно 87% вариативности в данных о смертности может быть объяснено изменениями в количестве подтвержденных случаев. Это говорит о том, что модель линейной регрессии хорошо подходит для описания связи между этими двумя переменными."
      ],
      "metadata": {
        "id": "0v7CJVfMl9KR"
      }
    },
    {
      "cell_type": "markdown",
      "source": [
        "## 4. Предсказание величины целевого признака на нескольких объектах"
      ],
      "metadata": {
        "id": "ELLQaYUGjdEx"
      }
    },
    {
      "cell_type": "code",
      "source": [
        "\n",
        "# Сделаем предсказание величины целевого признака ('Deaths') для трех-четырех объектов\n",
        "# Выберем случайные объекты из данных\n",
        "np.random.seed(0)  # Для воспроизводимости\n",
        "sample_indices = np.random.choice(df.index, 4, replace=False)\n",
        "sample_data = df.iloc[sample_indices]\n",
        "\n",
        "# Предсказания для выбранных объектов\n",
        "predicted_deaths = model.predict(sample_data['Confirmed'].values.reshape(-1, 1))\n",
        "\n",
        "# Реальные значения\n",
        "actual_deaths = sample_data['Deaths'].values\n",
        "\n",
        "# Сравнение предсказанных и реальных значений\n",
        "comparison = pd.DataFrame({'Confirmed': sample_data['Confirmed'], 'Actual Deaths': actual_deaths, 'Predicted Deaths': predicted_deaths})\n",
        "comparison"
      ],
      "metadata": {
        "colab": {
          "base_uri": "https://localhost:8080/",
          "height": 175
        },
        "id": "xpwHuT8gqum1",
        "outputId": "0b33cbde-d11a-4ce8-f24b-bc7f685e5b5a"
      },
      "execution_count": null,
      "outputs": [
        {
          "output_type": "execute_result",
          "data": {
            "text/plain": [
              "     Confirmed  Actual Deaths  Predicted Deaths\n",
              "107       2513            124        553.805540\n",
              "45        1060             19        503.848539\n",
              "159      11424            720        860.183261\n",
              "63         326              8        478.612174"
            ],
            "text/html": [
              "\n",
              "  <div id=\"df-e8f0dc40-e439-4ee9-940c-710e0d9c8547\" class=\"colab-df-container\">\n",
              "    <div>\n",
              "<style scoped>\n",
              "    .dataframe tbody tr th:only-of-type {\n",
              "        vertical-align: middle;\n",
              "    }\n",
              "\n",
              "    .dataframe tbody tr th {\n",
              "        vertical-align: top;\n",
              "    }\n",
              "\n",
              "    .dataframe thead th {\n",
              "        text-align: right;\n",
              "    }\n",
              "</style>\n",
              "<table border=\"1\" class=\"dataframe\">\n",
              "  <thead>\n",
              "    <tr style=\"text-align: right;\">\n",
              "      <th></th>\n",
              "      <th>Confirmed</th>\n",
              "      <th>Actual Deaths</th>\n",
              "      <th>Predicted Deaths</th>\n",
              "    </tr>\n",
              "  </thead>\n",
              "  <tbody>\n",
              "    <tr>\n",
              "      <th>107</th>\n",
              "      <td>2513</td>\n",
              "      <td>124</td>\n",
              "      <td>553.805540</td>\n",
              "    </tr>\n",
              "    <tr>\n",
              "      <th>45</th>\n",
              "      <td>1060</td>\n",
              "      <td>19</td>\n",
              "      <td>503.848539</td>\n",
              "    </tr>\n",
              "    <tr>\n",
              "      <th>159</th>\n",
              "      <td>11424</td>\n",
              "      <td>720</td>\n",
              "      <td>860.183261</td>\n",
              "    </tr>\n",
              "    <tr>\n",
              "      <th>63</th>\n",
              "      <td>326</td>\n",
              "      <td>8</td>\n",
              "      <td>478.612174</td>\n",
              "    </tr>\n",
              "  </tbody>\n",
              "</table>\n",
              "</div>\n",
              "    <div class=\"colab-df-buttons\">\n",
              "\n",
              "  <div class=\"colab-df-container\">\n",
              "    <button class=\"colab-df-convert\" onclick=\"convertToInteractive('df-e8f0dc40-e439-4ee9-940c-710e0d9c8547')\"\n",
              "            title=\"Convert this dataframe to an interactive table.\"\n",
              "            style=\"display:none;\">\n",
              "\n",
              "  <svg xmlns=\"http://www.w3.org/2000/svg\" height=\"24px\" viewBox=\"0 -960 960 960\">\n",
              "    <path d=\"M120-120v-720h720v720H120Zm60-500h600v-160H180v160Zm220 220h160v-160H400v160Zm0 220h160v-160H400v160ZM180-400h160v-160H180v160Zm440 0h160v-160H620v160ZM180-180h160v-160H180v160Zm440 0h160v-160H620v160Z\"/>\n",
              "  </svg>\n",
              "    </button>\n",
              "\n",
              "  <style>\n",
              "    .colab-df-container {\n",
              "      display:flex;\n",
              "      gap: 12px;\n",
              "    }\n",
              "\n",
              "    .colab-df-convert {\n",
              "      background-color: #E8F0FE;\n",
              "      border: none;\n",
              "      border-radius: 50%;\n",
              "      cursor: pointer;\n",
              "      display: none;\n",
              "      fill: #1967D2;\n",
              "      height: 32px;\n",
              "      padding: 0 0 0 0;\n",
              "      width: 32px;\n",
              "    }\n",
              "\n",
              "    .colab-df-convert:hover {\n",
              "      background-color: #E2EBFA;\n",
              "      box-shadow: 0px 1px 2px rgba(60, 64, 67, 0.3), 0px 1px 3px 1px rgba(60, 64, 67, 0.15);\n",
              "      fill: #174EA6;\n",
              "    }\n",
              "\n",
              "    .colab-df-buttons div {\n",
              "      margin-bottom: 4px;\n",
              "    }\n",
              "\n",
              "    [theme=dark] .colab-df-convert {\n",
              "      background-color: #3B4455;\n",
              "      fill: #D2E3FC;\n",
              "    }\n",
              "\n",
              "    [theme=dark] .colab-df-convert:hover {\n",
              "      background-color: #434B5C;\n",
              "      box-shadow: 0px 1px 3px 1px rgba(0, 0, 0, 0.15);\n",
              "      filter: drop-shadow(0px 1px 2px rgba(0, 0, 0, 0.3));\n",
              "      fill: #FFFFFF;\n",
              "    }\n",
              "  </style>\n",
              "\n",
              "    <script>\n",
              "      const buttonEl =\n",
              "        document.querySelector('#df-e8f0dc40-e439-4ee9-940c-710e0d9c8547 button.colab-df-convert');\n",
              "      buttonEl.style.display =\n",
              "        google.colab.kernel.accessAllowed ? 'block' : 'none';\n",
              "\n",
              "      async function convertToInteractive(key) {\n",
              "        const element = document.querySelector('#df-e8f0dc40-e439-4ee9-940c-710e0d9c8547');\n",
              "        const dataTable =\n",
              "          await google.colab.kernel.invokeFunction('convertToInteractive',\n",
              "                                                    [key], {});\n",
              "        if (!dataTable) return;\n",
              "\n",
              "        const docLinkHtml = 'Like what you see? Visit the ' +\n",
              "          '<a target=\"_blank\" href=https://colab.research.google.com/notebooks/data_table.ipynb>data table notebook</a>'\n",
              "          + ' to learn more about interactive tables.';\n",
              "        element.innerHTML = '';\n",
              "        dataTable['output_type'] = 'display_data';\n",
              "        await google.colab.output.renderOutput(dataTable, element);\n",
              "        const docLink = document.createElement('div');\n",
              "        docLink.innerHTML = docLinkHtml;\n",
              "        element.appendChild(docLink);\n",
              "      }\n",
              "    </script>\n",
              "  </div>\n",
              "\n",
              "\n",
              "<div id=\"df-cedebb30-cc1b-435a-8c21-b70f966d3013\">\n",
              "  <button class=\"colab-df-quickchart\" onclick=\"quickchart('df-cedebb30-cc1b-435a-8c21-b70f966d3013')\"\n",
              "            title=\"Suggest charts\"\n",
              "            style=\"display:none;\">\n",
              "\n",
              "<svg xmlns=\"http://www.w3.org/2000/svg\" height=\"24px\"viewBox=\"0 0 24 24\"\n",
              "     width=\"24px\">\n",
              "    <g>\n",
              "        <path d=\"M19 3H5c-1.1 0-2 .9-2 2v14c0 1.1.9 2 2 2h14c1.1 0 2-.9 2-2V5c0-1.1-.9-2-2-2zM9 17H7v-7h2v7zm4 0h-2V7h2v10zm4 0h-2v-4h2v4z\"/>\n",
              "    </g>\n",
              "</svg>\n",
              "  </button>\n",
              "\n",
              "<style>\n",
              "  .colab-df-quickchart {\n",
              "      --bg-color: #E8F0FE;\n",
              "      --fill-color: #1967D2;\n",
              "      --hover-bg-color: #E2EBFA;\n",
              "      --hover-fill-color: #174EA6;\n",
              "      --disabled-fill-color: #AAA;\n",
              "      --disabled-bg-color: #DDD;\n",
              "  }\n",
              "\n",
              "  [theme=dark] .colab-df-quickchart {\n",
              "      --bg-color: #3B4455;\n",
              "      --fill-color: #D2E3FC;\n",
              "      --hover-bg-color: #434B5C;\n",
              "      --hover-fill-color: #FFFFFF;\n",
              "      --disabled-bg-color: #3B4455;\n",
              "      --disabled-fill-color: #666;\n",
              "  }\n",
              "\n",
              "  .colab-df-quickchart {\n",
              "    background-color: var(--bg-color);\n",
              "    border: none;\n",
              "    border-radius: 50%;\n",
              "    cursor: pointer;\n",
              "    display: none;\n",
              "    fill: var(--fill-color);\n",
              "    height: 32px;\n",
              "    padding: 0;\n",
              "    width: 32px;\n",
              "  }\n",
              "\n",
              "  .colab-df-quickchart:hover {\n",
              "    background-color: var(--hover-bg-color);\n",
              "    box-shadow: 0 1px 2px rgba(60, 64, 67, 0.3), 0 1px 3px 1px rgba(60, 64, 67, 0.15);\n",
              "    fill: var(--button-hover-fill-color);\n",
              "  }\n",
              "\n",
              "  .colab-df-quickchart-complete:disabled,\n",
              "  .colab-df-quickchart-complete:disabled:hover {\n",
              "    background-color: var(--disabled-bg-color);\n",
              "    fill: var(--disabled-fill-color);\n",
              "    box-shadow: none;\n",
              "  }\n",
              "\n",
              "  .colab-df-spinner {\n",
              "    border: 2px solid var(--fill-color);\n",
              "    border-color: transparent;\n",
              "    border-bottom-color: var(--fill-color);\n",
              "    animation:\n",
              "      spin 1s steps(1) infinite;\n",
              "  }\n",
              "\n",
              "  @keyframes spin {\n",
              "    0% {\n",
              "      border-color: transparent;\n",
              "      border-bottom-color: var(--fill-color);\n",
              "      border-left-color: var(--fill-color);\n",
              "    }\n",
              "    20% {\n",
              "      border-color: transparent;\n",
              "      border-left-color: var(--fill-color);\n",
              "      border-top-color: var(--fill-color);\n",
              "    }\n",
              "    30% {\n",
              "      border-color: transparent;\n",
              "      border-left-color: var(--fill-color);\n",
              "      border-top-color: var(--fill-color);\n",
              "      border-right-color: var(--fill-color);\n",
              "    }\n",
              "    40% {\n",
              "      border-color: transparent;\n",
              "      border-right-color: var(--fill-color);\n",
              "      border-top-color: var(--fill-color);\n",
              "    }\n",
              "    60% {\n",
              "      border-color: transparent;\n",
              "      border-right-color: var(--fill-color);\n",
              "    }\n",
              "    80% {\n",
              "      border-color: transparent;\n",
              "      border-right-color: var(--fill-color);\n",
              "      border-bottom-color: var(--fill-color);\n",
              "    }\n",
              "    90% {\n",
              "      border-color: transparent;\n",
              "      border-bottom-color: var(--fill-color);\n",
              "    }\n",
              "  }\n",
              "</style>\n",
              "\n",
              "  <script>\n",
              "    async function quickchart(key) {\n",
              "      const quickchartButtonEl =\n",
              "        document.querySelector('#' + key + ' button');\n",
              "      quickchartButtonEl.disabled = true;  // To prevent multiple clicks.\n",
              "      quickchartButtonEl.classList.add('colab-df-spinner');\n",
              "      try {\n",
              "        const charts = await google.colab.kernel.invokeFunction(\n",
              "            'suggestCharts', [key], {});\n",
              "      } catch (error) {\n",
              "        console.error('Error during call to suggestCharts:', error);\n",
              "      }\n",
              "      quickchartButtonEl.classList.remove('colab-df-spinner');\n",
              "      quickchartButtonEl.classList.add('colab-df-quickchart-complete');\n",
              "    }\n",
              "    (() => {\n",
              "      let quickchartButtonEl =\n",
              "        document.querySelector('#df-cedebb30-cc1b-435a-8c21-b70f966d3013 button');\n",
              "      quickchartButtonEl.style.display =\n",
              "        google.colab.kernel.accessAllowed ? 'block' : 'none';\n",
              "    })();\n",
              "  </script>\n",
              "</div>\n",
              "    </div>\n",
              "  </div>\n"
            ]
          },
          "metadata": {},
          "execution_count": 16
        }
      ]
    },
    {
      "cell_type": "markdown",
      "source": [
        "В таблице представлены реальные и предсказанные значения смертей ('Deaths') для четырех случайно выбранных объектов на основе количества подтвержденных случаев ('Confirmed')."
      ],
      "metadata": {
        "id": "r04XpaHpq-Kk"
      }
    },
    {
      "cell_type": "markdown",
      "source": [
        "Наблюдается значительное расхождение между реальными и предсказанными значениями. Это может указывать на ограничения модели линейной регрессии в точном предсказании числа смертей на основе подтвержденных случаев."
      ],
      "metadata": {
        "id": "AhQedJ91rCKU"
      }
    },
    {
      "cell_type": "markdown",
      "source": [
        "## 5. Расчет средней относительной ошибки"
      ],
      "metadata": {
        "id": "9rBjbmpCjf3x"
      }
    },
    {
      "cell_type": "markdown",
      "source": [
        "Средняя относительная ошибка (Mean Absolute Percentage Error, MAPE)"
      ],
      "metadata": {
        "id": "Wy_SHKcfrGEY"
      }
    },
    {
      "cell_type": "code",
      "source": [
        "# Расчет средней относительной ошибки (Mean Absolute Percentage Error, MAPE)\n",
        "def mean_absolute_percentage_error(y_true, y_pred):\n",
        "    return np.mean(np.abs((y_true - y_pred) / y_true)) * 100\n",
        "\n",
        "mape = mean_absolute_percentage_error(df['Deaths'], model.predict(df['Confirmed'].values.reshape(-1, 1)))\n",
        "mape"
      ],
      "metadata": {
        "colab": {
          "base_uri": "https://localhost:8080/"
        },
        "id": "2xfgnGUSq1Vo",
        "outputId": "ca88e7e2-5dc4-498f-dad9-224101a38f20"
      },
      "execution_count": null,
      "outputs": [
        {
          "output_type": "execute_result",
          "data": {
            "text/plain": [
              "inf"
            ]
          },
          "metadata": {},
          "execution_count": 18
        }
      ]
    },
    {
      "cell_type": "markdown",
      "source": [
        "Расчет в Парадигме Анализа Данных:\n",
        "\n",
        "В данном контексте, расчет MAPE для всего набора данных (без разделения на обучающую и тестовую выборки) относится к парадигме анализа данных.\n",
        "Здесь целью является оценка того, насколько хорошо модель линейной регрессии соответствует всем наблюдаемым данным, чтобы понять общую тенденцию и зависимость между переменными ('Confirmed' и 'Deaths' в вашем случае).\n",
        "Расчет в Парадигме Машинного Обучения:\n",
        "\n",
        "В машинном обучении MAPE обычно рассчитывается на отдельной тестовой выборке данных, которая не использовалась при обучении модели. Это позволяет оценить способность модели обобщать и делать точные предсказания на новых данных.\n",
        "Для этого данные обычно разделяются на обучающую и тестовую выборки, модель обучается на обучающей выборке, а MAPE рассчитывается на основе предсказаний модели для тестовой выборки.\n",
        "\n",
        "В вашем случае, поскольку вы используете всю выборку данных для построения и оценки модели, расчет MAPE соответствует скорее парадигме анализа данных. В машинном обучении вы бы разделили данные на обучающую и тестовую выборки и рассчитывали бы MAPE на основе предсказаний на тестовой выборке."
      ],
      "metadata": {
        "id": "tCyUssRKcTma"
      }
    },
    {
      "cell_type": "markdown",
      "source": [
        "Расчет MAPE дал значение \"inf\" (бесконечность), что обычно происходит, если в данных присутствуют нулевые значения (деление на ноль). Это указывает на то, что для некоторых объектов в данных количество смертей равно нулю, что приводит к бесконечным значениям в расчете ошибки."
      ],
      "metadata": {
        "id": "IxSJOWZHrMQs"
      }
    },
    {
      "cell_type": "markdown",
      "source": [
        "Выводы\n",
        "\n",
        "Модель линейной регрессии показала низкую точность при предсказании количества смертей на основе подтвержденных случаев. Это может быть связано с наличием сложных нелинейных зависимостей между этими двумя переменными, которые не учитываются в простой линейной модели.\n",
        "\n",
        "Высокое значение MAPE подтверждает, что модель неэффективна для точного предсказания целевой переменной в данном контексте.\n",
        "Результаты подчеркивают важность выбора подходящих моделей и методов для анализа конкретных данных, а также необходимость тщательного анализа данных перед применением статистических методов"
      ],
      "metadata": {
        "id": "mWIcXXw5rWmT"
      }
    },
    {
      "cell_type": "code",
      "source": [],
      "metadata": {
        "id": "BGk-pj8urMpO"
      },
      "execution_count": null,
      "outputs": []
    }
  ]
}